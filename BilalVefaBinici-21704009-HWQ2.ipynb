{
 "cells": [
  {
   "cell_type": "code",
   "execution_count": 2,
   "metadata": {},
   "outputs": [
    {
     "name": "stdout",
     "output_type": "stream",
     "text": [
      "  1,2veya 3 den birni seçerek devam ediniz  \n",
      "2\n",
      "   Herhangi bir sayı giriniz bu sayıya kadar olan sayılar tarafımızca ekrana yazılacaktır  \n",
      "\n",
      " Bir sayı giriniz 21\n",
      "1\n",
      "2\n",
      "3\n",
      "4\n",
      "5\n",
      "6\n",
      "7\n",
      "8\n",
      "9\n",
      "10\n",
      "11\n",
      "12\n",
      "13\n",
      "14\n",
      "15\n",
      "16\n",
      "17\n",
      "18\n",
      "19\n",
      "20\n",
      "21\n"
     ]
    }
   ],
   "source": [
    "değer =float(input(\"  1,2veya 3 den birni seçerek devam ediniz  \\n\"))\n",
    "\n",
    "if değer == 1:\n",
    "    print(\"  2 kenar uzunluğu seçiniz böylece üçgenin hipotenüsü hesaplanacak  \\n\")\n",
    "    a=float(input(\" a kenarı için uzunluk giriniz \"))\n",
    "    b=float(input(\" b kenarı için uzunluk giriniz \"))\n",
    "    hipotenüs=(a**2+b**2)**(0.5)\n",
    "    print(\"   Bu 2 kenarın hipotenüsü   \" ,hipotenüs)\n",
    "    print(\" farklı yolları denemek için programı baştan başlatınız  \")\n",
    "\n",
    "if değer == 2:\n",
    "    print(\"   Herhangi bir sayı giriniz bu sayıya kadar olan sayılar tarafımızca ekrana yazılacaktır  \\n\")\n",
    "    a=float(input(\" Bir sayı giriniz \"))\n",
    "    i=1\n",
    "    while i < a+1:\n",
    "        print(i)\n",
    "        i=i+1\n",
    "           \n",
    "if değer ==3:\n",
    "    print(\"   şimdi 6 adet numara giriniz böylece girdiğiniz sayıların aritmetik ortalaması hesaplanacak  \\n\")\n",
    "    a=float(input(\" İlk sayıyı giriniz \"))\n",
    "    b=float(input(\" İkinci sayıyı giriniz \"))\n",
    "    c=float(input(\" Üçüncü sayıyı giriniz \"))\n",
    "    d=float(input(\" Dördüncü sayıyı giriniz \"))\n",
    "    e=float(input(\" Beşinci sayıyı giriniz \"))\n",
    "    f=float(input(\" Altıncı sayıyı giriniz \"))\n",
    "    ortalama=(a+b+c+d+e+f)/6\n",
    "    print (\"   Verdiğiniz 6 sayının aritmetik ortalaması hesaplandı :   \" ,ortalama)\n",
    "    print (\"  farklı yolları denemek için programı baştan başlatınız  \")\n",
    "          \n",
    "if değer < 1:\n",
    "    print(\"   programı tekrar başlatınız ve 1,2 veya 3 numaralı sayılardan birini seçiniz   \")\n",
    "    \n",
    "if değer > 3:\n",
    "    print(\"   programı tekrar başlatınız ve 1,2 veya 3 numaralı sayılardan birini seçiniz   \")\n",
    "    \n",
    "if değer < 3 and değer > 2:\n",
    "    print(\"   programı tekrar başlatınız ve 1,2 veya 3 numaralı sayılardan birini seçiniz   \")\n",
    "    \n",
    "if değer < 2 and değer > 1:\n",
    "    print(\"   programı tekrar başlatınız ve 1,2 veya 3 numaralı sayılardan birini seçiniz   \")"
   ]
  },
  {
   "cell_type": "code",
   "execution_count": null,
   "metadata": {},
   "outputs": [],
   "source": []
  }
 ],
 "metadata": {
  "kernelspec": {
   "display_name": "Python 3",
   "language": "python",
   "name": "python3"
  },
  "language_info": {
   "codemirror_mode": {
    "name": "ipython",
    "version": 3
   },
   "file_extension": ".py",
   "mimetype": "text/x-python",
   "name": "python",
   "nbconvert_exporter": "python",
   "pygments_lexer": "ipython3",
   "version": "3.6.5"
  }
 },
 "nbformat": 4,
 "nbformat_minor": 2
}
